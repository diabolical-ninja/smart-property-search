{
 "cells": [
  {
   "cell_type": "code",
   "execution_count": 44,
   "metadata": {},
   "outputs": [],
   "source": [
    "import domainClient as dc\n",
    "from tqdm import tqdm\n",
    "from src.domain_authentication import GetAccessTokenJson"
   ]
  },
  {
   "cell_type": "code",
   "execution_count": 39,
   "metadata": {},
   "outputs": [
    {
     "name": "stdout",
     "output_type": "stream",
     "text": [
      "{'access_token': 'f4f91ba13dfef4d1098aba6868a02f09', 'expires_in': 43200, 'token_type': 'Bearer'}\n"
     ]
    }
   ],
   "source": [
    "client_id = 'client_4be5cff11d226bae5bdeb42a549fe5f4'\n",
    "client_secret = 'secret_8ca83e6cade860a916fef73f7abddd2d'\n",
    "scopes = ['api_listings_read', 'api_agencies_read', 'api_salesresults_read']\n",
    "\n",
    "auth_info = GetAccessTokenJson(client_id, client_secret, scopes)\n",
    "print(auth_info)"
   ]
  },
  {
   "cell_type": "code",
   "execution_count": 42,
   "metadata": {},
   "outputs": [],
   "source": [
    "# Configure Authentication client\n",
    "configuration = dc.Configuration()\n",
    "configuration.access_token = auth_info['access_token']"
   ]
  },
  {
   "cell_type": "code",
   "execution_count": 49,
   "metadata": {},
   "outputs": [
    {
     "name": "stderr",
     "output_type": "stream",
     "text": [
      "100%|██████████| 5/5 [00:01<00:00,  2.68it/s]\n"
     ]
    }
   ],
   "source": [
    "# Instantiate Results Listings API\n",
    "sc = dc.SalesResultsApi(dc.ApiClient(configuration))\n",
    "\n",
    "cities = ['Sydney', 'Melbourne', 'Brisbane', 'Adelaide', 'Canberra']\n",
    "sales_results = {city: sc.sales_results_listings(city) for city in tqdm(cities)}"
   ]
  },
  {
   "cell_type": "code",
   "execution_count": 51,
   "metadata": {
    "scrolled": false
   },
   "outputs": [
    {
     "data": {
      "text/plain": [
       "{'agency_id': 5489,\n",
       " 'agency_name': ' Jellis Craig Stonnington',\n",
       " 'agency_profile_page_url': 'http://www.domain.com.au/real-estate-agencies/jelliscraigstonnington-5489',\n",
       " 'agent': 'Jellis Craig Stonnington',\n",
       " 'bathrooms': 1,\n",
       " 'bedrooms': 1,\n",
       " 'carspaces': 1,\n",
       " 'geo_location': {'latitude': -37.8471823, 'longitude': 144.9786951},\n",
       " 'id': 2016234423,\n",
       " 'postcode': '3004',\n",
       " 'price': None,\n",
       " 'property_details_url': 'https://www.domain.com.au/1308-568-st-kilda-road-melbourne-3004-vic-3004-2016234423',\n",
       " 'property_type': 'Unit',\n",
       " 'result': 'PTSD',\n",
       " 'state': 'Vic',\n",
       " 'street_name': 'St Kilda',\n",
       " 'street_number': '568',\n",
       " 'street_type': 'Rd',\n",
       " 'suburb': '',\n",
       " 'unit_number': '1308'}"
      ]
     },
     "execution_count": 51,
     "metadata": {},
     "output_type": "execute_result"
    }
   ],
   "source": [
    "sales_results['Melbourne'][1]"
   ]
  },
  {
   "cell_type": "code",
   "execution_count": 52,
   "metadata": {},
   "outputs": [
    {
     "ename": "AttributeError",
     "evalue": "module 'domainClient' has no attribute 'listings'",
     "output_type": "error",
     "traceback": [
      "\u001b[0;31m---------------------------------------------------------------------------\u001b[0m",
      "\u001b[0;31mAttributeError\u001b[0m                            Traceback (most recent call last)",
      "\u001b[0;32m<ipython-input-52-fc2c656c7ba4>\u001b[0m in \u001b[0;36m<module>\u001b[0;34m\u001b[0m\n\u001b[0;32m----> 1\u001b[0;31m \u001b[0mlistings\u001b[0m \u001b[0;34m=\u001b[0m \u001b[0mdc\u001b[0m\u001b[0;34m.\u001b[0m\u001b[0mlistings\u001b[0m\u001b[0;34m(\u001b[0m\u001b[0mdc\u001b[0m\u001b[0;34m.\u001b[0m\u001b[0mApiClient\u001b[0m\u001b[0;34m(\u001b[0m\u001b[0mconfiguration\u001b[0m\u001b[0;34m)\u001b[0m\u001b[0;34m)\u001b[0m\u001b[0;34m\u001b[0m\u001b[0;34m\u001b[0m\u001b[0m\n\u001b[0m\u001b[1;32m      2\u001b[0m \u001b[0;34m\u001b[0m\u001b[0m\n\u001b[1;32m      3\u001b[0m \u001b[0;34m\u001b[0m\u001b[0m\n\u001b[1;32m      4\u001b[0m \u001b[0;31m# https://api.domain.com.au/v1/listings/6311594\u001b[0m\u001b[0;34m\u001b[0m\u001b[0;34m\u001b[0m\u001b[0;34m\u001b[0m\u001b[0m\n",
      "\u001b[0;31mAttributeError\u001b[0m: module 'domainClient' has no attribute 'listings'"
     ]
    }
   ],
   "source": [
    "listings = dc.listings(dc.ApiClient(configuration))\n",
    "\n",
    "\n",
    "# https://api.domain.com.au/v1/listings/6311594"
   ]
  },
  {
   "cell_type": "code",
   "execution_count": null,
   "metadata": {},
   "outputs": [],
   "source": [
    "dc."
   ]
  }
 ],
 "metadata": {
  "kernelspec": {
   "display_name": "Python 3",
   "language": "python",
   "name": "python3"
  },
  "language_info": {
   "codemirror_mode": {
    "name": "ipython",
    "version": 3
   },
   "file_extension": ".py",
   "mimetype": "text/x-python",
   "name": "python",
   "nbconvert_exporter": "python",
   "pygments_lexer": "ipython3",
   "version": "3.6.8"
  }
 },
 "nbformat": 4,
 "nbformat_minor": 2
}
